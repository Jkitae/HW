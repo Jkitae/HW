{
  "nbformat": 4,
  "nbformat_minor": 0,
  "metadata": {
    "colab": {
      "name": "Untitled1.ipynb",
      "provenance": [],
      "authorship_tag": "ABX9TyOk7U02WgPhDlwGIzxkKDQ/",
      "include_colab_link": true
    },
    "kernelspec": {
      "name": "python3",
      "display_name": "Python 3"
    }
  },
  "cells": [
    {
      "cell_type": "markdown",
      "metadata": {
        "id": "view-in-github",
        "colab_type": "text"
      },
      "source": [
        "<a href=\"https://colab.research.google.com/github/Jkitae/HW/blob/master/HW3%20MNIST.ipynb\" target=\"_parent\"><img src=\"https://colab.research.google.com/assets/colab-badge.svg\" alt=\"Open In Colab\"/></a>"
      ]
    },
    {
      "cell_type": "code",
      "metadata": {
        "id": "pp9_lJ8pPH-E",
        "colab_type": "code",
        "colab": {}
      },
      "source": [
        "mode = 'scale'\n",
        "\n",
        "if (mode == 'scale'):\n",
        "\n",
        "    # 라이브러리 추출\n",
        "\n",
        "    from tensorflow import keras\n",
        "    from keras.datasets import mnist\n",
        "    from keras.models import Sequential\n",
        "    from keras.layers import Input, Dense, Activation\n",
        "    from keras.optimizers import Adam, SGD\n",
        "    from keras.utils import to_categorical\n",
        "\n",
        "    # MNIST data 불러오기\n",
        "\n",
        "    (train_images, train_labels),(test_images, test_labels) = mnist.load_data(path = \"mnist.npz\")\n",
        "    train_images = train_images.reshape((train_images.shape[0],-1))\n",
        "    test_images = test_images.reshape((test_images.shape[0],-1))\n",
        "    train_labels = to_categorical(train_labels)\n",
        "    test_labels = to_categorical(test_labels)\n",
        "\n",
        "    # Scaling\n",
        "\n",
        "    X1 = train_images * 0.988\n",
        "    X2 = test_images * 0.988\n",
        "    Y1 = train_labels * 0.988\n",
        "    Y2 = test_labels * 0.988\n",
        "\n",
        "    # Sequential model for dual layer perceptron\n",
        "\n",
        "    model = Sequential([Dense(392, input_shape = (784,), activation = 'relu'), Dense(10,activation = 'softmax')])\n",
        "    model.summary()\n",
        "\n",
        "    # Graph generation\n",
        "\n",
        "    model.compile(optimizer = 'adam', loss = 'categorical_crossentropy', metrics = ['accuracy'])\n",
        "\n",
        "    # Training\n",
        "\n",
        "    model.fit(X1, Y1, epochs = 5, batch_size = 200)\n",
        "\n",
        "    # Evaluate\n",
        "\n",
        "    rslt = model.evaluate(X1, Y1, batch_size = 200)\n",
        "    print(\"train, loss and accuracy {}\".format(rslt))\n",
        "    rslt = model.evaluate(X2, Y2, batch_size = 200)\n",
        "    print(\"train, loss and accuracy {}\".format(rslt))"
      ],
      "execution_count": 0,
      "outputs": []
    }
  ]
}